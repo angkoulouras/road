{
 "cells": [
  {
   "cell_type": "code",
   "execution_count": null,
   "metadata": {},
   "outputs": [],
   "source": [
    "using CSV, DataFrames, DataFrames, Statistics, LinearAlgebra, Random"
   ]
  },
  {
   "cell_type": "code",
   "execution_count": null,
   "metadata": {},
   "outputs": [],
   "source": [
    "df_anycat = CSV.read(\"imatinib_data.csv\", DataFrame)"
   ]
  },
  {
   "cell_type": "code",
   "execution_count": null,
   "metadata": {},
   "outputs": [],
   "source": [
    "X_train = df_anycat[:, [:Max_tumor_size, :PRIM_MITOTIC_COUNT_NUMERIC, :SITE_CATEGORICAL_GASTRIC]]\n",
    "\n",
    "train_treatments = df_anycat[:, :Ima_receipt]\n",
    "\n",
    "train_recurred = convert(Vector{Bool}, df_anycat[:, :Primary_tumor_recurrence])\n",
    "\n",
    "train_times = df_anycat[:, :Primary_tumor_RFS_years_ima_completion]*12;"
   ]
  },
  {
   "cell_type": "code",
   "execution_count": null,
   "metadata": {},
   "outputs": [],
   "source": [
    "reward_lnr = IAI.CategoricalSurvivalRewardEstimator(\n",
    "    propensity_estimator=IAI.RandomForestClassifier(show_progress=false, missingdatamode=\"separate_class\"),\n",
    "    outcome_estimator=IAI.RandomForestSurvivalLearner(show_progress=false, missingdatamode=\"separate_class\"),\n",
    "    reward_estimator=:direct_method,\n",
    "    propensity_min_value=0.2,\n",
    "    random_seed=123,\n",
    "    evaluation_time= 84 #7 years\n",
    ");"
   ]
  },
  {
   "cell_type": "code",
   "execution_count": null,
   "metadata": {},
   "outputs": [],
   "source": [
    "train_predictions, train_reward_score = IAI.fit_predict!(reward_lnr,\n",
    "    X_train, train_treatments, train_recurred, train_times,\n",
    "    propensity_score_criterion = \"misclassification\",\n",
    "    outcome_score_criterion = \"harrell_c_statistic\")\n",
    "train_rewards = train_predictions[:reward];"
   ]
  },
  {
   "cell_type": "code",
   "execution_count": null,
   "metadata": {
    "scrolled": false
   },
   "outputs": [],
   "source": [
    "grid_rw = IAI.GridSearch(\n",
    "    IAI.OptimalTreePolicyMaximizer(\n",
    "        random_seed=123,\n",
    "        max_categoric_levels_before_warning=20,\n",
    "        missingdatamode=\"separate_class\",\n",
    "    ),\n",
    "    max_depth=[3, 4, 5],\n",
    "    minbucket=[5, 10, 15],\n",
    "#     cp = [0.01, 0.05]\n",
    "    cp = [0.001, 0.005]\n",
    ")\n",
    "IAI.fit!(grid_rw, X_train, train_rewards)"
   ]
  },
  {
   "cell_type": "code",
   "execution_count": null,
   "metadata": {},
   "outputs": [],
   "source": []
  }
 ],
 "metadata": {
  "kernelspec": {
   "display_name": "Julia (IAI) 1.8.0",
   "language": "julia",
   "name": "julia-_iai_-1.8"
  },
  "language_info": {
   "file_extension": ".jl",
   "mimetype": "application/julia",
   "name": "julia",
   "version": "1.8.0"
  }
 },
 "nbformat": 4,
 "nbformat_minor": 4
}
